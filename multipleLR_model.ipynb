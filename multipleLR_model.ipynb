{
 "cells": [
  {
   "cell_type": "code",
   "execution_count": 1,
   "metadata": {},
   "outputs": [],
   "source": [
    "#simple linear regression\n",
    "# y = mx+b\n",
    "# where \n",
    "# y is the predicted output (dependent variable)\n",
    "# x is the input (independent variable)\n",
    "# m is slop(weight)\n",
    "# b is the intercept (bias)"
   ]
  },
  {
   "cell_type": "code",
   "execution_count": null,
   "metadata": {},
   "outputs": [],
   "source": [
    "# multiple linear regression\n",
    "# y = m1x1 + m2x2 + m3x3 + b\n",
    "# where \n",
    "# y is the predicted output (dependent variable)\n",
    "# x1 is the input (independent variable)\n",
    "# x2 is the input (independent variable)\n",
    "# x3 is the input (independent variable)\n",
    "# m1 is slop(weight)\n",
    "# m2 is slop(weight)\n",
    "# m3 is slop(weight)\n",
    "# b is the intercept (bias)"
   ]
  },
  {
   "cell_type": "code",
   "execution_count": 5,
   "metadata": {},
   "outputs": [],
   "source": [
    "import numpy as np\n",
    "import matplotlib.pyplot as plt\n",
    "import pandas as pd\n",
    "from sklearn.linear_model import LinearRegression\n",
    "from sklearn.model_selection import train_test_split\n",
    "from sklearn.metrics import mean_squared_error, r2_score"
   ]
  },
  {
   "cell_type": "code",
   "execution_count": 6,
   "metadata": {},
   "outputs": [
    {
     "name": "stdout",
     "output_type": "stream",
     "text": [
      "Mean Squared Error: 2.10157956119629\n",
      "R-squared: 0.9668712445414965\n"
     ]
    }
   ],
   "source": [
    "np.random.seed(42)\n",
    "x1 = 2*np.random.rand(100, 1) # 100 rows, 1 column\n",
    "x2 = 3*np.random.rand(100, 1) # 100 rows, 1 column\n",
    "x3 = 4*np.random.rand(100, 1) # 100 rows, 1 column\n",
    "y = 2 + 3*x1 + 4*x2 + 5*x3 + np.random.randn(100, 1) # y = 2 + 3x1 + 4x2 + 5x3 + noise\n",
    "\n",
    "#stack the features into a single array\n",
    "x = np.hstack((x1,x2,x3))\n",
    "\n",
    "#split data into training and testing sets\n",
    "x_train, x_test, y_train, y_test = train_test_split(x, y, test_size=0.2, random_state=42)\n",
    "\n",
    "#create a linear regression model\n",
    "model = LinearRegression()\n",
    "\n",
    "#fit the model to the training data\n",
    "model.fit(x_train, y_train)\n",
    "\n",
    "#make predictions on the testing data\n",
    "y_pred = model.predict(x_test)\n",
    "\n",
    "#get the mean squared error and r-squared\n",
    "mse = mean_squared_error(y_test, y_pred)\n",
    "r2 = r2_score(y_test, y_pred)\n",
    "\n",
    "print(f\"Mean Squared Error: {mse}\")\n",
    "print(f\"R-squared: {r2}\")"
   ]
  }
 ],
 "metadata": {
  "kernelspec": {
   "display_name": "Python 3",
   "language": "python",
   "name": "python3"
  },
  "language_info": {
   "codemirror_mode": {
    "name": "ipython",
    "version": 3
   },
   "file_extension": ".py",
   "mimetype": "text/x-python",
   "name": "python",
   "nbconvert_exporter": "python",
   "pygments_lexer": "ipython3",
   "version": "3.12.1"
  }
 },
 "nbformat": 4,
 "nbformat_minor": 2
}
